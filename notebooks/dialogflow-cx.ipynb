{
 "cells": [
  {
   "cell_type": "code",
   "execution_count": 1,
   "id": "effd6cce-d9c0-4bf8-aadc-4f11d695ab1b",
   "metadata": {},
   "outputs": [],
   "source": [
    "# Globals to override\n",
    "PROJCET_ID = \"mlai-345519\"\n",
    "LOCATION_ID = \"global\"\n",
    "AGENT_ID = \"0159de70-a55a-4f78-93af-301f93e8e035\"\n",
    "LANGUAGE_CODE = 'en' \n",
    "#-us'    "
   ]
  },
  {
   "cell_type": "markdown",
   "id": "d84fd292-6fc9-4a92-83d2-dabe7f1d5107",
   "metadata": {
    "tags": []
   },
   "source": [
    "## Functions Code"
   ]
  },
  {
   "cell_type": "code",
   "execution_count": 2,
   "id": "18340adc-16c0-40bb-ad06-676da6dd15ee",
   "metadata": {},
   "outputs": [],
   "source": [
    "from google.cloud import dialogflowcx_v3beta1 as dialogflow #cx\n",
    "import uuid\n",
    "from google.cloud.dialogflowcx_v3beta1.services.agents import AgentsClient\n",
    "from google.cloud.dialogflowcx_v3beta1.services.sessions import SessionsClient\n",
    "from google.cloud.dialogflowcx_v3beta1.types import session\n"
   ]
  },
  {
   "cell_type": "code",
   "execution_count": 3,
   "id": "aeb09e95-7937-42ab-894c-b77989810a94",
   "metadata": {},
   "outputs": [],
   "source": [
    "def say(texts = [\"Balance\"],session_id = uuid.uuid4(),project_id=PROJCET_ID,location_id=LOCATION_ID,agent_id=AGENT_ID):\n",
    "    agent = f\"projects/{project_id}/locations/{location_id}/agents/{agent_id}\"\n",
    "    language_code = LANGUAGE_CODE\n",
    "\n",
    "    responses = detect_intent_texts(agent, session_id, texts, language_code)\n",
    "    for response in responses:\n",
    "        print(f\"Query text: {response.query_result.text}\")\n",
    "        response_messages = [\n",
    "            \" \".join(msg.text.text) for msg in response.query_result.response_messages\n",
    "        ]\n",
    "        print(f\"Response text: {response_messages}\\n\")\n",
    "    return session_id"
   ]
  },
  {
   "cell_type": "code",
   "execution_count": 4,
   "id": "e42f8ac9-2985-4a50-9cf9-9f29b5ee90a5",
   "metadata": {},
   "outputs": [],
   "source": [
    "def detect_intent_texts(agent, session_id, texts, language_code):\n",
    "    \"\"\"Returns the result of detect intent with texts as inputs.\n",
    "\n",
    "    Using the same `session_id` between requests allows continuation\n",
    "    of the conversation.\"\"\"\n",
    "    responses = []\n",
    "    session_path = f\"{agent}/sessions/{session_id}\"\n",
    "    #print(f\"Session path: {session_path}\\n\")\n",
    "    client_options = None\n",
    "    agent_components = AgentsClient.parse_agent_path(agent)\n",
    "    location_id = agent_components[\"location\"]\n",
    "    if location_id != \"global\":\n",
    "        api_endpoint = f\"{location_id}-dialogflow.googleapis.com:443\"\n",
    "        print(f\"API Endpoint: {api_endpoint}\\n\")\n",
    "        client_options = {\"api_endpoint\": api_endpoint}\n",
    "    session_client = SessionsClient(client_options=client_options)\n",
    "\n",
    "    texts = [texts] if isinstance(texts,str) else texts\n",
    "    for text in texts:\n",
    "        text_input = session.TextInput(text=text)\n",
    "        query_input = session.QueryInput(text=text_input, language_code=language_code)\n",
    "        request = session.DetectIntentRequest(\n",
    "            session=session_path, query_input=query_input\n",
    "        )\n",
    "        response = session_client.detect_intent(request=request)\n",
    "        responses.append(response)\n",
    "    return responses\n",
    "\n"
   ]
  },
  {
   "cell_type": "markdown",
   "id": "f335350f-4a8e-4bbf-8488-49d403258325",
   "metadata": {
    "tags": []
   },
   "source": [
    "## Embeded Bot"
   ]
  },
  {
   "cell_type": "code",
   "execution_count": null,
   "id": "2ac0e107-eec1-4b46-bf3f-7bc7cf7de204",
   "metadata": {},
   "outputs": [],
   "source": [
    "html = f'''<script src=\"https://www.gstatic.com/dialogflow-console/fast/messenger-cx/bootstrap.js?v=1\"></script>\n",
    "<df-messenger\n",
    "  df-cx=\"true\"\n",
    "  chat-title=\"Test Bot\"\n",
    "  agent-id=\"{AGENT_ID}\"\n",
    "  language-code=\"{LANGUAGE_CODE}\"\n",
    "></df-messenger>'''\n",
    "from IPython.core.display import display, HTML\n",
    "display(HTML(html))"
   ]
  },
  {
   "cell_type": "markdown",
   "id": "5b0181fe-2b22-4222-88ee-4597f2964a2b",
   "metadata": {
    "tags": []
   },
   "source": [
    "## Dialog"
   ]
  },
  {
   "cell_type": "code",
   "execution_count": 5,
   "id": "285dfb3a-f333-4829-a0fd-832d37bdee32",
   "metadata": {},
   "outputs": [
    {
     "name": "stdout",
     "output_type": "stream",
     "text": [
      "Query text: Credit card balance amount\n",
      "Response text: [\"I'd be happy to help with your account balance.\\n\", \"\\nWhat are the last four digits of the card that you're calling about?\", '']\n",
      "\n"
     ]
    }
   ],
   "source": [
    "session_id = say(\"Credit card balance amount\")"
   ]
  },
  {
   "cell_type": "code",
   "execution_count": 6,
   "id": "745c78d4-4f10-4741-9d29-3e5c0b5f0d9e",
   "metadata": {},
   "outputs": [
    {
     "data": {
      "text/plain": [
       "UUID('f7929111-2dcd-46ed-8bb7-5cae13ff6e5e')"
      ]
     },
     "execution_count": 6,
     "metadata": {},
     "output_type": "execute_result"
    }
   ],
   "source": [
    "session_id"
   ]
  },
  {
   "cell_type": "code",
   "execution_count": 7,
   "id": "505c9818-1600-463b-be37-cf7fa9bae0d0",
   "metadata": {},
   "outputs": [
    {
     "ename": "ResourceExhausted",
     "evalue": "429 received initial metadata size exceeds limit",
     "output_type": "error",
     "traceback": [
      "\u001b[0;31m---------------------------------------------------------------------------\u001b[0m",
      "\u001b[0;31m_InactiveRpcError\u001b[0m                         Traceback (most recent call last)",
      "\u001b[0;32m/opt/conda/envs/ccai/lib/python3.7/site-packages/google/api_core/grpc_helpers.py\u001b[0m in \u001b[0;36merror_remapped_callable\u001b[0;34m(*args, **kwargs)\u001b[0m\n\u001b[1;32m     49\u001b[0m         \u001b[0;32mtry\u001b[0m\u001b[0;34m:\u001b[0m\u001b[0;34m\u001b[0m\u001b[0;34m\u001b[0m\u001b[0m\n\u001b[0;32m---> 50\u001b[0;31m             \u001b[0;32mreturn\u001b[0m \u001b[0mcallable_\u001b[0m\u001b[0;34m(\u001b[0m\u001b[0;34m*\u001b[0m\u001b[0margs\u001b[0m\u001b[0;34m,\u001b[0m \u001b[0;34m**\u001b[0m\u001b[0mkwargs\u001b[0m\u001b[0;34m)\u001b[0m\u001b[0;34m\u001b[0m\u001b[0;34m\u001b[0m\u001b[0m\n\u001b[0m\u001b[1;32m     51\u001b[0m         \u001b[0;32mexcept\u001b[0m \u001b[0mgrpc\u001b[0m\u001b[0;34m.\u001b[0m\u001b[0mRpcError\u001b[0m \u001b[0;32mas\u001b[0m \u001b[0mexc\u001b[0m\u001b[0;34m:\u001b[0m\u001b[0;34m\u001b[0m\u001b[0;34m\u001b[0m\u001b[0m\n",
      "\u001b[0;32m/opt/conda/envs/ccai/lib/python3.7/site-packages/grpc/_channel.py\u001b[0m in \u001b[0;36m__call__\u001b[0;34m(self, request, timeout, metadata, credentials, wait_for_ready, compression)\u001b[0m\n\u001b[1;32m    945\u001b[0m                                       wait_for_ready, compression)\n\u001b[0;32m--> 946\u001b[0;31m         \u001b[0;32mreturn\u001b[0m \u001b[0m_end_unary_response_blocking\u001b[0m\u001b[0;34m(\u001b[0m\u001b[0mstate\u001b[0m\u001b[0;34m,\u001b[0m \u001b[0mcall\u001b[0m\u001b[0;34m,\u001b[0m \u001b[0;32mFalse\u001b[0m\u001b[0;34m,\u001b[0m \u001b[0;32mNone\u001b[0m\u001b[0;34m)\u001b[0m\u001b[0;34m\u001b[0m\u001b[0;34m\u001b[0m\u001b[0m\n\u001b[0m\u001b[1;32m    947\u001b[0m \u001b[0;34m\u001b[0m\u001b[0m\n",
      "\u001b[0;32m/opt/conda/envs/ccai/lib/python3.7/site-packages/grpc/_channel.py\u001b[0m in \u001b[0;36m_end_unary_response_blocking\u001b[0;34m(state, call, with_call, deadline)\u001b[0m\n\u001b[1;32m    848\u001b[0m     \u001b[0;32melse\u001b[0m\u001b[0;34m:\u001b[0m\u001b[0;34m\u001b[0m\u001b[0;34m\u001b[0m\u001b[0m\n\u001b[0;32m--> 849\u001b[0;31m         \u001b[0;32mraise\u001b[0m \u001b[0m_InactiveRpcError\u001b[0m\u001b[0;34m(\u001b[0m\u001b[0mstate\u001b[0m\u001b[0;34m)\u001b[0m\u001b[0;34m\u001b[0m\u001b[0;34m\u001b[0m\u001b[0m\n\u001b[0m\u001b[1;32m    850\u001b[0m \u001b[0;34m\u001b[0m\u001b[0m\n",
      "\u001b[0;31m_InactiveRpcError\u001b[0m: <_InactiveRpcError of RPC that terminated with:\n\tstatus = StatusCode.RESOURCE_EXHAUSTED\n\tdetails = \"received initial metadata size exceeds limit\"\n\tdebug_error_string = \"{\"created\":\"@1658951871.212330267\",\"description\":\"Error received from peer ipv4:74.125.202.95:443\",\"file\":\"src/core/lib/surface/call.cc\",\"file_line\":966,\"grpc_message\":\"received initial metadata size exceeds limit\",\"grpc_status\":8}\"\n>",
      "\nThe above exception was the direct cause of the following exception:\n",
      "\u001b[0;31mResourceExhausted\u001b[0m                         Traceback (most recent call last)",
      "\u001b[0;32m/tmp/ipykernel_9322/3981376532.py\u001b[0m in \u001b[0;36m<module>\u001b[0;34m\u001b[0m\n\u001b[1;32m      2\u001b[0m          \u001b[0;34m,\u001b[0m\u001b[0;34m\"can I speak with your manager\"\u001b[0m\u001b[0;31m \u001b[0m\u001b[0;31m\\\u001b[0m\u001b[0;34m\u001b[0m\u001b[0;34m\u001b[0m\u001b[0m\n\u001b[1;32m      3\u001b[0m          ,\"Can you help with payments?\"]\n\u001b[0;32m----> 4\u001b[0;31m \u001b[0msay\u001b[0m\u001b[0;34m(\u001b[0m\u001b[0mtexts\u001b[0m\u001b[0;34m,\u001b[0m\u001b[0msession_id\u001b[0m\u001b[0;34m)\u001b[0m\u001b[0;34m\u001b[0m\u001b[0;34m\u001b[0m\u001b[0m\n\u001b[0m",
      "\u001b[0;32m/tmp/ipykernel_9322/1101660104.py\u001b[0m in \u001b[0;36msay\u001b[0;34m(texts, session_id, project_id, location_id, agent_id)\u001b[0m\n\u001b[1;32m      3\u001b[0m     \u001b[0mlanguage_code\u001b[0m \u001b[0;34m=\u001b[0m \u001b[0mLANGUAGE_CODE\u001b[0m\u001b[0;34m\u001b[0m\u001b[0;34m\u001b[0m\u001b[0m\n\u001b[1;32m      4\u001b[0m \u001b[0;34m\u001b[0m\u001b[0m\n\u001b[0;32m----> 5\u001b[0;31m     \u001b[0mresponses\u001b[0m \u001b[0;34m=\u001b[0m \u001b[0mdetect_intent_texts\u001b[0m\u001b[0;34m(\u001b[0m\u001b[0magent\u001b[0m\u001b[0;34m,\u001b[0m \u001b[0msession_id\u001b[0m\u001b[0;34m,\u001b[0m \u001b[0mtexts\u001b[0m\u001b[0;34m,\u001b[0m \u001b[0mlanguage_code\u001b[0m\u001b[0;34m)\u001b[0m\u001b[0;34m\u001b[0m\u001b[0;34m\u001b[0m\u001b[0m\n\u001b[0m\u001b[1;32m      6\u001b[0m     \u001b[0;32mfor\u001b[0m \u001b[0mresponse\u001b[0m \u001b[0;32min\u001b[0m \u001b[0mresponses\u001b[0m\u001b[0;34m:\u001b[0m\u001b[0;34m\u001b[0m\u001b[0;34m\u001b[0m\u001b[0m\n\u001b[1;32m      7\u001b[0m         \u001b[0mprint\u001b[0m\u001b[0;34m(\u001b[0m\u001b[0;34mf\"Query text: {response.query_result.text}\"\u001b[0m\u001b[0;34m)\u001b[0m\u001b[0;34m\u001b[0m\u001b[0;34m\u001b[0m\u001b[0m\n",
      "\u001b[0;32m/tmp/ipykernel_9322/4170785866.py\u001b[0m in \u001b[0;36mdetect_intent_texts\u001b[0;34m(agent, session_id, texts, language_code)\u001b[0m\n\u001b[1;32m     23\u001b[0m             \u001b[0msession\u001b[0m\u001b[0;34m=\u001b[0m\u001b[0msession_path\u001b[0m\u001b[0;34m,\u001b[0m \u001b[0mquery_input\u001b[0m\u001b[0;34m=\u001b[0m\u001b[0mquery_input\u001b[0m\u001b[0;34m\u001b[0m\u001b[0;34m\u001b[0m\u001b[0m\n\u001b[1;32m     24\u001b[0m         )\n\u001b[0;32m---> 25\u001b[0;31m         \u001b[0mresponse\u001b[0m \u001b[0;34m=\u001b[0m \u001b[0msession_client\u001b[0m\u001b[0;34m.\u001b[0m\u001b[0mdetect_intent\u001b[0m\u001b[0;34m(\u001b[0m\u001b[0mrequest\u001b[0m\u001b[0;34m=\u001b[0m\u001b[0mrequest\u001b[0m\u001b[0;34m)\u001b[0m\u001b[0;34m\u001b[0m\u001b[0;34m\u001b[0m\u001b[0m\n\u001b[0m\u001b[1;32m     26\u001b[0m         \u001b[0mresponses\u001b[0m\u001b[0;34m.\u001b[0m\u001b[0mappend\u001b[0m\u001b[0;34m(\u001b[0m\u001b[0mresponse\u001b[0m\u001b[0;34m)\u001b[0m\u001b[0;34m\u001b[0m\u001b[0;34m\u001b[0m\u001b[0m\n\u001b[1;32m     27\u001b[0m     \u001b[0;32mreturn\u001b[0m \u001b[0mresponses\u001b[0m\u001b[0;34m\u001b[0m\u001b[0;34m\u001b[0m\u001b[0m\n",
      "\u001b[0;32m/opt/conda/envs/ccai/lib/python3.7/site-packages/google/cloud/dialogflowcx_v3beta1/services/sessions/client.py\u001b[0m in \u001b[0;36mdetect_intent\u001b[0;34m(self, request, retry, timeout, metadata)\u001b[0m\n\u001b[1;32m    724\u001b[0m             \u001b[0mretry\u001b[0m\u001b[0;34m=\u001b[0m\u001b[0mretry\u001b[0m\u001b[0;34m,\u001b[0m\u001b[0;34m\u001b[0m\u001b[0;34m\u001b[0m\u001b[0m\n\u001b[1;32m    725\u001b[0m             \u001b[0mtimeout\u001b[0m\u001b[0;34m=\u001b[0m\u001b[0mtimeout\u001b[0m\u001b[0;34m,\u001b[0m\u001b[0;34m\u001b[0m\u001b[0;34m\u001b[0m\u001b[0m\n\u001b[0;32m--> 726\u001b[0;31m             \u001b[0mmetadata\u001b[0m\u001b[0;34m=\u001b[0m\u001b[0mmetadata\u001b[0m\u001b[0;34m,\u001b[0m\u001b[0;34m\u001b[0m\u001b[0;34m\u001b[0m\u001b[0m\n\u001b[0m\u001b[1;32m    727\u001b[0m         )\n\u001b[1;32m    728\u001b[0m \u001b[0;34m\u001b[0m\u001b[0m\n",
      "\u001b[0;32m/opt/conda/envs/ccai/lib/python3.7/site-packages/google/api_core/gapic_v1/method.py\u001b[0m in \u001b[0;36m__call__\u001b[0;34m(self, timeout, retry, *args, **kwargs)\u001b[0m\n\u001b[1;32m    152\u001b[0m             \u001b[0mkwargs\u001b[0m\u001b[0;34m[\u001b[0m\u001b[0;34m\"metadata\"\u001b[0m\u001b[0;34m]\u001b[0m \u001b[0;34m=\u001b[0m \u001b[0mmetadata\u001b[0m\u001b[0;34m\u001b[0m\u001b[0;34m\u001b[0m\u001b[0m\n\u001b[1;32m    153\u001b[0m \u001b[0;34m\u001b[0m\u001b[0m\n\u001b[0;32m--> 154\u001b[0;31m         \u001b[0;32mreturn\u001b[0m \u001b[0mwrapped_func\u001b[0m\u001b[0;34m(\u001b[0m\u001b[0;34m*\u001b[0m\u001b[0margs\u001b[0m\u001b[0;34m,\u001b[0m \u001b[0;34m**\u001b[0m\u001b[0mkwargs\u001b[0m\u001b[0;34m)\u001b[0m\u001b[0;34m\u001b[0m\u001b[0;34m\u001b[0m\u001b[0m\n\u001b[0m\u001b[1;32m    155\u001b[0m \u001b[0;34m\u001b[0m\u001b[0m\n\u001b[1;32m    156\u001b[0m \u001b[0;34m\u001b[0m\u001b[0m\n",
      "\u001b[0;32m/opt/conda/envs/ccai/lib/python3.7/site-packages/google/api_core/retry.py\u001b[0m in \u001b[0;36mretry_wrapped_func\u001b[0;34m(*args, **kwargs)\u001b[0m\n\u001b[1;32m    286\u001b[0m                 \u001b[0msleep_generator\u001b[0m\u001b[0;34m,\u001b[0m\u001b[0;34m\u001b[0m\u001b[0;34m\u001b[0m\u001b[0m\n\u001b[1;32m    287\u001b[0m                 \u001b[0mself\u001b[0m\u001b[0;34m.\u001b[0m\u001b[0m_deadline\u001b[0m\u001b[0;34m,\u001b[0m\u001b[0;34m\u001b[0m\u001b[0;34m\u001b[0m\u001b[0m\n\u001b[0;32m--> 288\u001b[0;31m                 \u001b[0mon_error\u001b[0m\u001b[0;34m=\u001b[0m\u001b[0mon_error\u001b[0m\u001b[0;34m,\u001b[0m\u001b[0;34m\u001b[0m\u001b[0;34m\u001b[0m\u001b[0m\n\u001b[0m\u001b[1;32m    289\u001b[0m             )\n\u001b[1;32m    290\u001b[0m \u001b[0;34m\u001b[0m\u001b[0m\n",
      "\u001b[0;32m/opt/conda/envs/ccai/lib/python3.7/site-packages/google/api_core/retry.py\u001b[0m in \u001b[0;36mretry_target\u001b[0;34m(target, predicate, sleep_generator, deadline, on_error)\u001b[0m\n\u001b[1;32m    188\u001b[0m     \u001b[0;32mfor\u001b[0m \u001b[0msleep\u001b[0m \u001b[0;32min\u001b[0m \u001b[0msleep_generator\u001b[0m\u001b[0;34m:\u001b[0m\u001b[0;34m\u001b[0m\u001b[0;34m\u001b[0m\u001b[0m\n\u001b[1;32m    189\u001b[0m         \u001b[0;32mtry\u001b[0m\u001b[0;34m:\u001b[0m\u001b[0;34m\u001b[0m\u001b[0;34m\u001b[0m\u001b[0m\n\u001b[0;32m--> 190\u001b[0;31m             \u001b[0;32mreturn\u001b[0m \u001b[0mtarget\u001b[0m\u001b[0;34m(\u001b[0m\u001b[0;34m)\u001b[0m\u001b[0;34m\u001b[0m\u001b[0;34m\u001b[0m\u001b[0m\n\u001b[0m\u001b[1;32m    191\u001b[0m \u001b[0;34m\u001b[0m\u001b[0m\n\u001b[1;32m    192\u001b[0m         \u001b[0;31m# pylint: disable=broad-except\u001b[0m\u001b[0;34m\u001b[0m\u001b[0;34m\u001b[0m\u001b[0;34m\u001b[0m\u001b[0m\n",
      "\u001b[0;32m/opt/conda/envs/ccai/lib/python3.7/site-packages/google/api_core/grpc_helpers.py\u001b[0m in \u001b[0;36merror_remapped_callable\u001b[0;34m(*args, **kwargs)\u001b[0m\n\u001b[1;32m     50\u001b[0m             \u001b[0;32mreturn\u001b[0m \u001b[0mcallable_\u001b[0m\u001b[0;34m(\u001b[0m\u001b[0;34m*\u001b[0m\u001b[0margs\u001b[0m\u001b[0;34m,\u001b[0m \u001b[0;34m**\u001b[0m\u001b[0mkwargs\u001b[0m\u001b[0;34m)\u001b[0m\u001b[0;34m\u001b[0m\u001b[0;34m\u001b[0m\u001b[0m\n\u001b[1;32m     51\u001b[0m         \u001b[0;32mexcept\u001b[0m \u001b[0mgrpc\u001b[0m\u001b[0;34m.\u001b[0m\u001b[0mRpcError\u001b[0m \u001b[0;32mas\u001b[0m \u001b[0mexc\u001b[0m\u001b[0;34m:\u001b[0m\u001b[0;34m\u001b[0m\u001b[0;34m\u001b[0m\u001b[0m\n\u001b[0;32m---> 52\u001b[0;31m             \u001b[0;32mraise\u001b[0m \u001b[0mexceptions\u001b[0m\u001b[0;34m.\u001b[0m\u001b[0mfrom_grpc_error\u001b[0m\u001b[0;34m(\u001b[0m\u001b[0mexc\u001b[0m\u001b[0;34m)\u001b[0m \u001b[0;32mfrom\u001b[0m \u001b[0mexc\u001b[0m\u001b[0;34m\u001b[0m\u001b[0;34m\u001b[0m\u001b[0m\n\u001b[0m\u001b[1;32m     53\u001b[0m \u001b[0;34m\u001b[0m\u001b[0m\n\u001b[1;32m     54\u001b[0m     \u001b[0;32mreturn\u001b[0m \u001b[0merror_remapped_callable\u001b[0m\u001b[0;34m\u001b[0m\u001b[0;34m\u001b[0m\u001b[0m\n",
      "\u001b[0;31mResourceExhausted\u001b[0m: 429 received initial metadata size exceeds limit"
     ]
    }
   ],
   "source": [
    "texts = [\"again, I'm asking for a balance check\" \\\n",
    "         ,\"can I speak with your manager\" \\\n",
    "         ,\"Can you help with payments?\"]\n",
    "say(texts,session_id)"
   ]
  },
  {
   "cell_type": "code",
   "execution_count": null,
   "id": "9b002965-45cc-45b8-811c-e16f46165340",
   "metadata": {},
   "outputs": [],
   "source": []
  }
 ],
 "metadata": {
  "kernelspec": {
   "display_name": "Python [conda env:ccai]",
   "language": "python",
   "name": "conda-env-ccai-py"
  },
  "language_info": {
   "codemirror_mode": {
    "name": "ipython",
    "version": 3
   },
   "file_extension": ".py",
   "mimetype": "text/x-python",
   "name": "python",
   "nbconvert_exporter": "python",
   "pygments_lexer": "ipython3",
   "version": "3.7.12"
  }
 },
 "nbformat": 4,
 "nbformat_minor": 5
}
