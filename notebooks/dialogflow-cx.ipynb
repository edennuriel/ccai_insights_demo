{
 "cells": [
  {
   "cell_type": "code",
   "execution_count": 37,
   "id": "effd6cce-d9c0-4bf8-aadc-4f11d695ab1b",
   "metadata": {},
   "outputs": [],
   "source": [
    "# Globals to override\n",
    "PROJCET_ID = \"\"\n",
    "LOCATION_ID = \"global\"\n",
    "AGENT_ID = \"1f956f23-7fa3-42ea-8350-3d09f2714fc7\"\n",
    "LANGUAGE_CODE = 'en' \n",
    "JSON_KEY=\"~/df-insights-key.json\""
   ]
  },
  {
   "cell_type": "code",
   "execution_count": 38,
   "id": "b80e8762-adff-49ce-962d-b39489b786ac",
   "metadata": {},
   "outputs": [
    {
     "name": "stdout",
     "output_type": "stream",
     "text": [
      "env: GOOGLE_APPLICATION_CREDENTIALS=/home/admin_edn_altostrat_com/df-insights-key.json\n"
     ]
    }
   ],
   "source": [
    "key=! echo {JSON_KEY} \n",
    "%env GOOGLE_APPLICATION_CREDENTIALS={key[0]}\n",
    "if PROJCET_ID == \"\" or PROJCET_ID is None:\n",
    "    PROJCET_ID=!gcloud config get-value project\n",
    "    if isinstance(PROJCET_ID,list): PROJCET_ID=PROJCET_ID[0] "
   ]
  },
  {
   "cell_type": "code",
   "execution_count": 50,
   "id": "faf57700-64de-4058-9ee4-a6ca88a5f765",
   "metadata": {},
   "outputs": [
    {
     "data": {
      "text/markdown": [
       "check out the conversation in insights - https://ccai.cloud.google.com/insights/projects/ccai-insights-test-edn/conversations"
      ],
      "text/plain": [
       "<IPython.core.display.Markdown object>"
      ]
     },
     "execution_count": 50,
     "metadata": {},
     "output_type": "execute_result"
    }
   ],
   "source": [
    "from IPython.display import Markdown as md\n",
    "\n",
    "md(f\"check out the conversation in insights - https://ccai.cloud.google.com/insights/projects/{PROJCET_ID}/conversations\")\n"
   ]
  },
  {
   "cell_type": "markdown",
   "id": "d84fd292-6fc9-4a92-83d2-dabe7f1d5107",
   "metadata": {
    "jp-MarkdownHeadingCollapsed": true,
    "tags": []
   },
   "source": [
    "## Functions Code"
   ]
  },
  {
   "cell_type": "code",
   "execution_count": 41,
   "id": "18340adc-16c0-40bb-ad06-676da6dd15ee",
   "metadata": {},
   "outputs": [],
   "source": [
    "from google.cloud import dialogflowcx_v3beta1 as dialogflow #cx\n",
    "import uuid\n",
    "from google.cloud.dialogflowcx_v3beta1.services.agents import AgentsClient\n",
    "from google.cloud.dialogflowcx_v3beta1.services.sessions import SessionsClient\n",
    "from google.cloud.dialogflowcx_v3beta1.types import session\n"
   ]
  },
  {
   "cell_type": "code",
   "execution_count": 43,
   "id": "aeb09e95-7937-42ab-894c-b77989810a94",
   "metadata": {},
   "outputs": [],
   "source": [
    "def say(texts = [\"Balance\"],session_id = uuid.uuid4(),project_id=PROJCET_ID,location_id=LOCATION_ID,agent_id=AGENT_ID):\n",
    "    agent = f\"projects/{project_id}/locations/{location_id}/agents/{agent_id}\"\n",
    "    language_code = LANGUAGE_CODE\n",
    "\n",
    "    responses = detect_intent_texts(agent, session_id, texts, language_code)\n",
    "    for response in responses:\n",
    "        print(f\"Query text: {response.query_result.text}\")\n",
    "        response_messages = [\n",
    "            \" \".join(msg.text.text) for msg in response.query_result.response_messages\n",
    "        ]\n",
    "        print(f\"Response text: {response_messages}\\n\")\n",
    "    return session_id"
   ]
  },
  {
   "cell_type": "code",
   "execution_count": 44,
   "id": "e42f8ac9-2985-4a50-9cf9-9f29b5ee90a5",
   "metadata": {},
   "outputs": [],
   "source": [
    "def detect_intent_texts(agent, session_id, texts, language_code):\n",
    "    \"\"\"Returns the result of detect intent with texts as inputs.\n",
    "\n",
    "    Using the same `session_id` between requests allows continuation\n",
    "    of the conversation.\"\"\"\n",
    "    responses = []\n",
    "    session_path = f\"{agent}/sessions/{session_id}\"\n",
    "    #print(f\"Session path: {session_path}\\n\")\n",
    "    client_options = None\n",
    "    agent_components = AgentsClient.parse_agent_path(agent)\n",
    "    location_id = agent_components[\"location\"]\n",
    "    if location_id != \"global\":\n",
    "        api_endpoint = f\"{location_id}-dialogflow.googleapis.com:443\"\n",
    "        print(f\"API Endpoint: {api_endpoint}\\n\")\n",
    "        client_options = {\"api_endpoint\": api_endpoint}\n",
    "    session_client = SessionsClient(client_options=client_options)\n",
    "\n",
    "    texts = [texts] if isinstance(texts,str) else texts\n",
    "    for text in texts:\n",
    "        text_input = session.TextInput(text=text)\n",
    "        query_input = session.QueryInput(text=text_input, language_code=language_code)\n",
    "        request = session.DetectIntentRequest(\n",
    "            session=session_path, query_input=query_input\n",
    "        )\n",
    "        response = session_client.detect_intent(request=request)\n",
    "        responses.append(response)\n",
    "    return responses\n",
    "\n"
   ]
  },
  {
   "cell_type": "markdown",
   "id": "f335350f-4a8e-4bbf-8488-49d403258325",
   "metadata": {
    "tags": []
   },
   "source": [
    "## Embeded Bot"
   ]
  },
  {
   "cell_type": "markdown",
   "id": "a8e8d6a6-85e0-4b96-993a-8776099fb0e1",
   "metadata": {},
   "source": [
    "- to use the dialog bot, you need to emable it in your project, navigate to **manage ->integrations & enable dialogflow messanger**  [docs](https://cloud.google.com/dialogflow/cx/docs/concept/integration/dialogflow-messenger)"
   ]
  },
  {
   "cell_type": "code",
   "execution_count": 60,
   "id": "2ac0e107-eec1-4b46-bf3f-7bc7cf7de204",
   "metadata": {},
   "outputs": [
    {
     "data": {
      "text/html": [
       "<script src=\"https://www.gstatic.com/dialogflow-console/fast/messenger-cx/bootstrap.js?v=1\"></script>\n",
       "<df-messenger\n",
       "  df-cx=\"true\"\n",
       "  chat-title=\"Test Bot\"\n",
       "  agent-id=\"1f956f23-7fa3-42ea-8350-3d09f2714fc7\"\n",
       "  language-code=\"en\"\n",
       "></df-messenger>"
      ],
      "text/plain": [
       "<IPython.core.display.HTML object>"
      ]
     },
     "metadata": {},
     "output_type": "display_data"
    }
   ],
   "source": [
    "html = f'''<script src=\"https://www.gstatic.com/dialogflow-console/fast/messenger-cx/bootstrap.js?v=1\"></script>\n",
    "<df-messenger\n",
    "  df-cx=\"true\"\n",
    "  chat-title=\"Test Bot\"\n",
    "  agent-id=\"{AGENT_ID}\"\n",
    "  language-code=\"{LANGUAGE_CODE}\"\n",
    "></df-messenger>'''\n",
    "from IPython.core.display import display, HTML\n",
    "display(HTML(html))"
   ]
  },
  {
   "cell_type": "markdown",
   "id": "5b0181fe-2b22-4222-88ee-4597f2964a2b",
   "metadata": {
    "tags": []
   },
   "source": [
    "## Dialog"
   ]
  },
  {
   "cell_type": "code",
   "execution_count": 55,
   "id": "285dfb3a-f333-4829-a0fd-832d37bdee32",
   "metadata": {},
   "outputs": [
    {
     "name": "stdout",
     "output_type": "stream",
     "text": [
      "Query text: Credit card balance amount\n",
      "Response text: ['Sorry. Just the last 4 digits of the card please.', '']\n",
      "\n"
     ]
    }
   ],
   "source": [
    "session_id = say(\"Credit card balance amount\")"
   ]
  },
  {
   "cell_type": "code",
   "execution_count": 56,
   "id": "745c78d4-4f10-4741-9d29-3e5c0b5f0d9e",
   "metadata": {},
   "outputs": [
    {
     "data": {
      "text/plain": [
       "UUID('352e7146-a230-4646-936a-179e0f091f60')"
      ]
     },
     "execution_count": 56,
     "metadata": {},
     "output_type": "execute_result"
    }
   ],
   "source": [
    "session_id"
   ]
  },
  {
   "cell_type": "code",
   "execution_count": 57,
   "id": "059b8304-9058-4678-b9db-307dd561c4ba",
   "metadata": {},
   "outputs": [
    {
     "name": "stdout",
     "output_type": "stream",
     "text": [
      "Query text: again, I'm asking for a balance check\n",
      "Response text: ['Sorry. Just the last 4 digits of the card please.', '']\n",
      "\n"
     ]
    },
    {
     "data": {
      "text/plain": [
       "UUID('352e7146-a230-4646-936a-179e0f091f60')"
      ]
     },
     "execution_count": 57,
     "metadata": {},
     "output_type": "execute_result"
    }
   ],
   "source": [
    "texts = [\"again, I'm asking for a balance check\"]\n",
    "say(texts,session_id)"
   ]
  },
  {
   "cell_type": "code",
   "execution_count": null,
   "id": "505c9818-1600-463b-be37-cf7fa9bae0d0",
   "metadata": {},
   "outputs": [],
   "source": [
    "texts = [\"for some reason this one does not work for me\"]\n",
    "say(texts,session_id)"
   ]
  },
  {
   "cell_type": "markdown",
   "id": "d7b4a1c6-694c-461d-bb32-d0d81bb21ca6",
   "metadata": {},
   "source": [
    "Voice integration can be easily demomnstrated by enabling integration, getting a phone number and calling it from google voice TODO:Check if this can be done via APIs"
   ]
  },
  {
   "cell_type": "code",
   "execution_count": null,
   "id": "8dfd0fe5-6020-4689-871a-e56d31bdcb8b",
   "metadata": {},
   "outputs": [],
   "source": []
  }
 ],
 "metadata": {
  "kernelspec": {
   "display_name": "Python [conda env:ccai]",
   "language": "python",
   "name": "conda-env-ccai-py"
  },
  "language_info": {
   "codemirror_mode": {
    "name": "ipython",
    "version": 3
   },
   "file_extension": ".py",
   "mimetype": "text/x-python",
   "name": "python",
   "nbconvert_exporter": "python",
   "pygments_lexer": "ipython3",
   "version": "3.7.12"
  }
 },
 "nbformat": 4,
 "nbformat_minor": 5
}
